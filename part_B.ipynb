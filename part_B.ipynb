{
 "cells": [
  {
   "cell_type": "markdown",
   "metadata": {},
   "source": [
    "# TECH 2 mandatory assignment - Part B\n",
    "\n",
    "Write your solution for Part B in this notebook."
   ]
  },
  {
   "cell_type": "code",
   "execution_count": 6,
   "metadata": {},
   "outputs": [
    {
     "name": "stdout",
     "output_type": "stream",
     "text": [
      "standard deviation for column 1 = 0.28237210973536014\n",
      "Timing for column 1 (100 numbers):\n",
      "17.1 μs ± 970 ns per loop (mean ± std. dev. of 7 runs, 10,000 loops each)\n",
      "standard deviation for column 2 = 0.28467443283850596\n",
      "Timing for column 2 (1,000 numbers):\n",
      "50.3 μs ± 1.31 μs per loop (mean ± std. dev. of 7 runs, 10,000 loops each)\n",
      "standard deviation for column 3 = 0.2854045269476156\n",
      "Timing for column 3 (10,000 numbers):\n",
      "361 μs ± 4.41 μs per loop (mean ± std. dev. of 7 runs, 1,000 loops each)\n"
     ]
    }
   ],
   "source": [
    "import numpy as np \n",
    "import pandas as pd \n",
    "import time as tm \n",
    "\n",
    "#import the file using pandas\n",
    "f = pd.read_csv(\"data.csv\", header = None)\n",
    "\n",
    "#Add colums to lists\n",
    "column1 = f[0].dropna().tolist()\n",
    "column2 = f[1].dropna().tolist()\n",
    "column3 = f[2].dropna().tolist()\n",
    "\n",
    "#Create a function for determening standard deviation\n",
    "def numpy_std(data):\n",
    "    return np.std(data)\n",
    "print(f\"standard deviation for column 1 = {numpy_std(column1)}\")\n",
    "print(\"Timing for column 1 (100 numbers):\")\n",
    "%timeit numpy_std(column1)\n",
    "\n",
    "# For column 2 (1,000 numbers)\n",
    "print(f\"standard deviation for column 2 = {numpy_std(column2)}\")\n",
    "print(\"Timing for column 2 (1,000 numbers):\")\n",
    "%timeit numpy_std(column2)\n",
    "\n",
    "# For column 3 (10,000 numbers)\n",
    "print(f\"standard deviation for column 3 = {numpy_std(column3)}\")\n",
    "print(\"Timing for column 3 (10,000 numbers):\")\n",
    "%timeit numpy_std(column3)"
   ]
  },
  {
   "cell_type": "code",
   "execution_count": null,
   "metadata": {},
   "outputs": [],
   "source": []
  }
 ],
 "metadata": {
  "kernelspec": {
   "display_name": "Python 3 (ipykernel)",
   "language": "python",
   "name": "python3"
  },
  "language_info": {
   "codemirror_mode": {
    "name": "ipython",
    "version": 3
   },
   "file_extension": ".py",
   "mimetype": "text/x-python",
   "name": "python",
   "nbconvert_exporter": "python",
   "pygments_lexer": "ipython3",
   "version": "3.12.4"
  }
 },
 "nbformat": 4,
 "nbformat_minor": 4
}
